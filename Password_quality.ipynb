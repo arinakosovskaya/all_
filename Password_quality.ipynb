{
  "nbformat": 4,
  "nbformat_minor": 0,
  "metadata": {
    "colab": {
      "name": "Password_quality",
      "provenance": [],
      "collapsed_sections": []
    },
    "kernelspec": {
      "name": "python3",
      "display_name": "Python 3"
    },
    "language_info": {
      "name": "python"
    }
  },
  "cells": [
    {
      "cell_type": "markdown",
      "metadata": {
        "id": "-urt2yxzY873"
      },
      "source": [
        "Вначале я покажу мое решение целиком :)"
      ]
    },
    {
      "cell_type": "code",
      "metadata": {
        "id": "pkttU_dBZGA1"
      },
      "source": [
        "import re\n",
        "from collections import defaultdict\n",
        "\n",
        "def password_quality(password):\n",
        "  if len(password) < 7:\n",
        "    return \"Password length must be at least 7 characters\"\n",
        "  if not any(map(str.isdigit, password)):\n",
        "    return \"Password must contain at least one digit\"\n",
        "  if not any(map(str.isupper, password)):\n",
        "    return \"Password must contain at least one uppercase letter\"\n",
        "  if not any(map(str.islower, password)):\n",
        "    return \"Password must contain at least one lowercase letter\"\n",
        "  if re.search(r'[^a-zA-Z0-9]', password):\n",
        "    return \"Password must contain only Latin letters and numbers\"\n",
        "  letters = defaultdict(bool)\n",
        "  for symbol in password:\n",
        "    if letters[symbol]:\n",
        "      return \"Password must not contain duplicate characters\"\n",
        "    letters[symbol] = True\n",
        "  return \"Good password!\""
      ],
      "execution_count": null,
      "outputs": []
    },
    {
      "cell_type": "code",
      "metadata": {
        "colab": {
          "base_uri": "https://localhost:8080/"
        },
        "id": "dR6wvpMhfP4w",
        "outputId": "82951faf-1dd6-4579-86ac-ca1469651940"
      },
      "source": [
        "print(password_quality(\"Mypassword1\"))\n",
        "print(password_quality(\"Mypassword\"))\n",
        "print(password_quality(\"mypswd2\"))\n",
        "print(password_quality(\"\"))\n",
        "print(password_quality(\"mypSwd3ы\"))\n",
        "print(password_quality(\"mypSwd4\"))"
      ],
      "execution_count": null,
      "outputs": [
        {
          "output_type": "stream",
          "text": [
            "Password must not contain duplicate characters\n",
            "Password must contain at least one digit\n",
            "Password must contain at least one uppercase letter\n",
            "Password length must be at least 7 characters\n",
            "Password must contain only Latin letters and numbers\n",
            "Good password!\n"
          ],
          "name": "stdout"
        }
      ]
    },
    {
      "cell_type": "markdown",
      "metadata": {
        "id": "fZ1V_uruZm-z"
      },
      "source": [
        "# **Пояснения к коду**\n"
      ]
    },
    {
      "cell_type": "markdown",
      "metadata": {
        "id": "7ShT6lhgZvrJ"
      },
      "source": [
        "В этих двух строках я проверяю длину пароля. Если она оказалась меньше 7 символов, то такой пароль нам не подходит. (Тут и дальше я заменила return на print, чтобы все было корректно)."
      ]
    },
    {
      "cell_type": "code",
      "metadata": {
        "id": "29CwdU4zZUSk"
      },
      "source": [
        "password = \"Mypswrd1\"\n",
        "if len(password) < 7:\n",
        "    print(\"Password length must be at least 7 characters\")"
      ],
      "execution_count": null,
      "outputs": []
    },
    {
      "cell_type": "markdown",
      "metadata": {
        "id": "ENtHUjmwZ4KU"
      },
      "source": [
        "Дальше я проверяю наличие хотя бы одной цифры. Если *any* вернула *True*, то в пароле есть хотя бы одна цифра (с помощью *map* мы просмотрели все элементы строки). Иначе такой пароль нам снова не подходит :(\n"
      ]
    },
    {
      "cell_type": "code",
      "metadata": {
        "id": "LjOht77TZ_03"
      },
      "source": [
        "if not any(map(str.isdigit, password)):\n",
        "    print(\"Password must contain at least one digit\")"
      ],
      "execution_count": null,
      "outputs": []
    },
    {
      "cell_type": "markdown",
      "metadata": {
        "id": "V4sfkhZEbFHO"
      },
      "source": [
        "Аналогично поступаем с проверкой наличия хотя бы одной заглавной и одной строчной букв:"
      ]
    },
    {
      "cell_type": "code",
      "metadata": {
        "id": "6hUq3FXZa0Zd"
      },
      "source": [
        "if not any(map(str.isupper, password)):\n",
        "    print(\"Password must contain at least one uppercase letter\")\n",
        "if not any(map(str.islower, password)):\n",
        "    print(\"Password must contain at least one lowercase letter\")"
      ],
      "execution_count": null,
      "outputs": []
    },
    {
      "cell_type": "markdown",
      "metadata": {
        "id": "vqAavdtYbDHg"
      },
      "source": [
        "Дальше проверяем, что в пароле содержатся только латинские буквы (строчные и заглавные) и цифры. Делаем это с помощью регулярного выражения."
      ]
    },
    {
      "cell_type": "code",
      "metadata": {
        "id": "1Z9QY7LRcHav"
      },
      "source": [
        "if re.search(r'[^a-zA-Z0-9]', password):\n",
        "    print(\"Password must contain only Latin letters and numbers\")"
      ],
      "execution_count": null,
      "outputs": []
    },
    {
      "cell_type": "markdown",
      "metadata": {
        "id": "Y7TaItU1cTJ_"
      },
      "source": [
        "Последним действием я проверяю строку на уникальность, что среди ее символов нет ни одного повторяющегося. Для этого я создаю словарь. В нем по умолчанию будет создаваться пара из ключа и *False*, если был вызван отсутствующий в словаре ключ. Проходясь циклом по строке, я кладу в словарь ее элементы (ключ -- сам символ, значение -- *True* как флаг, что такой символ был уже в строке). Если оказалось, что такой ключ уже был, то мы нашли повторяющийся символ, такой пароль снова не подходит(\n",
        "\n"
      ]
    },
    {
      "cell_type": "code",
      "metadata": {
        "id": "uDUKo0nScShz"
      },
      "source": [
        "letters = defaultdict(bool)\n",
        "for symbol in password:\n",
        "  if letters[symbol]:\n",
        "    print(\"Password must not contain duplicate characters\")\n",
        "  letters[symbol] = True"
      ],
      "execution_count": null,
      "outputs": []
    },
    {
      "cell_type": "markdown",
      "metadata": {
        "id": "4_BcjNBJe8uN"
      },
      "source": [
        "Если строка успешно дошла до конца программы, то она удовлетворяет всем условиям и может быть паролем :)"
      ]
    }
  ]
}