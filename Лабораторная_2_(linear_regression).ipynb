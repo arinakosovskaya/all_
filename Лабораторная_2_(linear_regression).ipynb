{
  "nbformat": 4,
  "nbformat_minor": 0,
  "metadata": {
    "kernelspec": {
      "display_name": "Python 3",
      "language": "python",
      "name": "python3"
    },
    "language_info": {
      "codemirror_mode": {
        "name": "ipython",
        "version": 3
      },
      "file_extension": ".py",
      "mimetype": "text/x-python",
      "name": "python",
      "nbconvert_exporter": "python",
      "pygments_lexer": "ipython3",
      "version": "3.7.4"
    },
    "colab": {
      "name": "Лабораторная 2 (linear regression).ipynb",
      "provenance": [],
      "toc_visible": true
    }
  },
  "cells": [
    {
      "cell_type": "markdown",
      "metadata": {
        "id": "Xqw1QpqSM0Nw"
      },
      "source": [
        "# Лабораторная работа 2\n",
        "\n",
        "## Линейная регрессия"
      ]
    },
    {
      "cell_type": "markdown",
      "metadata": {
        "id": "gAFlKtBgM0N2"
      },
      "source": [
        "### Метод наименьших квадратов: постановка задачи\n",
        "\n",
        "Рассмотрим систему уравнений $Xa = y$, в которой $a$ &mdash; столбец неизвестных. Её можно переписать в векторном виде\n",
        "$$x_1 a_1 + x_2 a_2 + \\ldots + x_k a_k = y,$$\n",
        "где $x_1,\\ldots,x_n$ &mdash; столбцы матрицы $X$. Таким образом, решить исходную систему означает найти линейную комбинацию векторов $x_1,\\ldots,x_n$, равную правой части. Но что делать, если такой линейной комбинации не существует? Геометрически это означает, что вектор $y$ не лежит в подпространстве $U = \\langle x_1,\\ldots, x_k\\rangle$. В этом случае мы можем найти *псевдорешение*: вектор коэффициентов $\\hat{a}$, для которого линейная комбинация $x_1 \\hat{a}_1 + x_2 \\hat{a}_2 + \\ldots + x_k \\hat{a}_k$ хоть и не равна в точности $y$, но является наилучшим приближением &mdash; то есть ближайшей к $y$ точкой $\\hat{y}$ подпространства $U$ (иными словами, ортогональной проекцией $y$ на это подпростанство). Итак, цель наших исканий можно сформулировать двумя эквивалентными способами:\n",
        "\n",
        "1. Найти вектор $\\hat{a}$, для которого длина разности $|X\\hat{a} - y|$ минимальна (отсюда название \"метод наименьших квадратов\");\n",
        "2. Найти ортогональную проекцию $\\hat{y}$ вектора $y$ на подпространство $U$ и представить её в виде $X\\hat{a}$.\n",
        "\n",
        "Далее мы будем предполагать, что векторы $x_1,\\ldots,x_n$ линейно независимы (если нет, то сначала имеет смысл выделить максимальную линейно независимую подсистему).\n",
        "\n",
        "На лекциях было показано, что проекция вектора $y$ на подпространство $U = \\langle x_1,\\ldots, x_k\\rangle$ записывается в виде\n",
        "$$\\hat{y} = X\\left(X^TX\\right)^{-1}X^Ty,$$\n",
        "и, соответственно, искомый вектор $\\hat{a}$ равен\n",
        "$$\\hat{a} = \\left(X^TX\\right)^{-1}X^Ty.$$"
      ]
    },
    {
      "cell_type": "markdown",
      "metadata": {
        "id": "21cPdbmoM0N3"
      },
      "source": [
        "### Задача линейной регрессии\n",
        "\n",
        "Начнём с примера. Допустим, вы хотите найти зависимость среднего балла S студента ФКН от его роста H, веса W, длины волос L и N &mdash; количества часов, которые он ежедневно посвящает учёбе. Представьте, что мы измерили все эти параметры для $n$ студентов и получили наборы значений $S_1,\\ldots, S_n$, $H_1,\\ldots, H_n$ и так далее.\n",
        "\n",
        "Тут можно подбирать много разных умных моделей, но начать имеет смысл с самой простой, линейной:\n",
        "$$S = a_1H + a_2W + a_3L + a_4N + a_5.$$\n",
        "Конечно, строгой линейной зависимости нет (иначе можно было бы радостно упразднить экзамены), но мы можем попробовать подобрать коэффициенты $a_1, a_2, a_3, a_4, a_5$, для которых отклонение правой части от наблюдаемых было бы наименьшим:\n",
        "$$\\sum_{i=1}^n\\left(S_i - ( a_1H_i + a_2W_i + a_3L_i + a_4N_i + a_5)\\right)^2 \\longrightarrow \\min$$\n",
        "И сразу видно, что мы получили задачу на метод наименьших квадратов! А именно, у нас\n",
        "$$X =\n",
        "\\begin{pmatrix}\n",
        "H_1 & W_1 & L_1 & N_1 & 1\\\\\n",
        "H_2 & W_2 & L_2 & N_2 & 1\\\\\n",
        "\\dots & \\dots & \\dots & \\dots & \\dots \\\\\n",
        "H_n & W_n & L_n & N_n & 1\n",
        "\\end{pmatrix},\\qquad y=\n",
        "\\begin{pmatrix}\n",
        "S_1\\\\ S_2\\\\ \\vdots \\\\ S_n\n",
        "\\end{pmatrix}$$\n",
        "\n",
        "Решая эту задачу с помощью уже известных формул, получаем оценки коэффициентов $\\hat{a}_i$ ($i = 1\\ldots,5$)."
      ]
    },
    {
      "cell_type": "markdown",
      "metadata": {
        "id": "LbjmmAbaM0N4"
      },
      "source": [
        "Теперь проговорим общую постановку задачи линейной регрессии. У нас есть $k$ переменных $x_1,\\ldots,x_k$ (\"регрессоров\"), через которые мы хотим выразить \"объясняемую переменную\" $y$:\n",
        "$$y = a_1x_1 + a_2x_2 + \\ldots + a_kx_k$$\n",
        "Значения всех переменных мы измерили $n$ раз (у $n$ различных объектов, в $n$ различных моментов времени &mdash; это зависит от задачи). Подставим эти данные в предыдущее равенство:\n",
        "$$\\begin{pmatrix}\n",
        "y_1\\\\ y_2 \\\\ \\vdots \\\\ y_n\n",
        "\\end{pmatrix} = \n",
        "a_1\\begin{pmatrix}\n",
        "x_{11} \\\\ x_{21} \\\\ \\vdots \\\\ x_{n1} \\end{pmatrix} + a_2\\begin{pmatrix}\n",
        "x_{12} \\\\ x_{22} \\\\ \\vdots \\\\ x_{n2} \\end{pmatrix} + \\ldots + a_k\\begin{pmatrix}\n",
        "x_{1k} \\\\ x_{2k} \\\\ \\vdots \\\\ x_{nk} \\end{pmatrix}$$\n",
        "(здесь $x_{ij}$ &mdash; это значение $j$-го признака на $i$-м измерении). Это удобно переписать в матричном виде:\n",
        "$$\\begin{pmatrix}\n",
        "x_{11} & x_{12} & \\ldots & x_{1k}\\\\\n",
        "x_{21} & x_{22} & \\ldots & x_{2k}\\\\\n",
        "\\dots & \\dots & \\dots & \\dots\\\\\n",
        "x_{n1} & x_{n2} & \\ldots & x_{nk}\n",
        "\\end{pmatrix} \\cdot\n",
        "\\begin{pmatrix}\n",
        "a_1 \\\\ a_2 \\\\ \\vdots \\\\ a_k\n",
        "\\end{pmatrix} = \n",
        "\\begin{pmatrix}\n",
        "y_1 \\\\ y_2 \\\\ \\vdots \\\\ y_n\n",
        "\\end{pmatrix}$$\n",
        "или коротко $Xa = y$. Поскольку на практике эта система уравнений зачастую не имеет решения (ибо зависимости в жизни редко бывают действительно линейными), методом наименьших квадратов ищется псевдорешение."
      ]
    },
    {
      "cell_type": "markdown",
      "metadata": {
        "id": "XRElGPdLM0N5"
      },
      "source": [
        "### Оценка качества. Обобщающая способность. Обучение и тест \n",
        "\n",
        "После того, как вы построили регрессию и получили какую-то зависимость объясняемой переменной от регрессоров, настаёт время оценить качество регрессии. Есть много разных функционалов качества; мы пока будем говорить только о самом простом и очевидном из них &mdash; о среднеквадратичной ошибке (mean square error). Она равна\n",
        "$$\\frac1{n}|X\\hat{a} - y|^2 = \\frac1{n}\\sum_{i=1}^n\\left(\\hat{a}_1x_{i1} + \\hat{a}_2x_{i2} + \\ldots + \\hat{a}_kx_{ik} - y_i\\right)^2$$\n",
        "\n",
        "В целом хочется искать модели с наименьшей mean square error на имеющихся данных. Однако слишком фанатичная гонка за минимизацией ошибки может привести к печальным последствиям. Например, если мы приближаем функцию одной переменной по значениям в $n$ точках, то наилучшей с точки зрения этой ошибки моделью будет многочлен $(n-1)$-й степени, для которого эта ошибка будет равна нулю.  Тем не менее, вряд ли истинная зависимость имеет вид многочлена большой степени. Более того, значения вам скорее всего даны с погрешностью, то есть вы подогнали вашу модель под свои зашумлённые данные, но на любых других данных (то есть в других точках) точность, скорее всего, окажется совсем не такой хорошей. Этот эффект называют **переобучением**; говорят также, что **обобщающая способность** модели оказалась скверной.\n",
        "\n",
        "Чтобы не попадать в эту ловушку, данные обычно делят на обучающие (по которым строят модель и оценивают коэффициенты) и тестовые. Лучшей стоит счесть ту модель, для которой значение функционала качества будет меньше."
      ]
    },
    {
      "cell_type": "markdown",
      "metadata": {
        "id": "NCcobYI0M0N6"
      },
      "source": [
        "### Задание 1. Метод наименьших квадратов (4 балла)"
      ]
    },
    {
      "cell_type": "markdown",
      "metadata": {
        "id": "snkl-HA2M0N6"
      },
      "source": [
        "Скачайте файлы ``train.txt`` и ``test.txt``. В первом из них находится обучающая выборка, а во втором &mdash; тестовая. Каждый из файлов содержит два столбца чисел, разделённых пробелами: в первом &mdash; $n$ точек (значения аргумента $x$), во втором &mdash; значения некоторой функции $y = f(x)$ в этих точках, искажённые случайным шумом. Ваша задача &mdash; по обучающей выборке подобрать функцию $y = g(x)$, пристойно приближающую неизвестную вам зависимость."
      ]
    },
    {
      "cell_type": "markdown",
      "metadata": {
        "id": "xaZHzrreM0N6"
      },
      "source": [
        "Загрузим обучающие и тестовые данные (не забудьте ввести правильный путь!)."
      ]
    },
    {
      "cell_type": "code",
      "metadata": {
        "id": "V10yENqOM0N7"
      },
      "source": [
        "import numpy as np\n",
        "import scipy.linalg as sla"
      ],
      "execution_count": 6,
      "outputs": []
    },
    {
      "cell_type": "code",
      "metadata": {
        "id": "atnlZCB5M0N7"
      },
      "source": [
        "data_train = np.loadtxt('train.txt', delimiter=',')\n",
        "data_test = np.loadtxt('test.txt', delimiter=',')"
      ],
      "execution_count": 7,
      "outputs": []
    },
    {
      "cell_type": "markdown",
      "metadata": {
        "id": "w1GdqzWDM0N8"
      },
      "source": [
        "Разделим значения $x$ и $y$"
      ]
    },
    {
      "cell_type": "code",
      "metadata": {
        "id": "SdZsJtM2M0N8"
      },
      "source": [
        "X_train = data_train[:,0]\n",
        "y_train = data_train[:,1]\n",
        "X_test = data_test[:,0]\n",
        "y_test = data_test[:,1]\n",
        "\n",
        "# Сделайте то же для тестовой выборки"
      ],
      "execution_count": 8,
      "outputs": []
    },
    {
      "cell_type": "markdown",
      "metadata": {
        "id": "_hyPhffAM0N8"
      },
      "source": [
        "Найдите с помощью метода наименьших квадратов линейную функцию ($y = kx + b$), наилучшим образом приближающую неизвестную зависимость. Полезные функции: ``numpy.ones(n)`` для создания массива из единиц длины $n$ и ``numpy.concatenate((А, В), axis=1)`` для слияния двух матриц по столбцам (пара ``А`` и ``В`` превращается в матрицу ``[A B]``)."
      ]
    },
    {
      "cell_type": "code",
      "metadata": {
        "id": "LERD6BgwM0N8"
      },
      "source": [
        "def make_X (x, k):\n",
        "    deg = k\n",
        "    temp_mas = np.zeros((k+1, len(x)))\n",
        "    for i in range(k+1):\n",
        "        temp_mas[i] = (np.full(len(x), x**deg)).T\n",
        "        deg -=1 \n",
        "    return(temp_mas.T)"
      ],
      "execution_count": 9,
      "outputs": []
    },
    {
      "cell_type": "code",
      "metadata": {
        "id": "-9WCvNj3M0N9"
      },
      "source": [
        "def make_caef(k):\n",
        "    X = make_X(X_train, k)\n",
        "    return ((np.dot(sla.inv(np.dot(X.T, X)), X.T)).dot(y_train.reshape(len(y_train), 1)))"
      ],
      "execution_count": 10,
      "outputs": []
    },
    {
      "cell_type": "code",
      "metadata": {
        "id": "0SDvbpLdM0N9",
        "colab": {
          "base_uri": "https://localhost:8080/"
        },
        "outputId": "fe2fd96e-5d80-4c0f-eac1-da5ba72c9992"
      },
      "source": [
        "X = np.concatenate((X_train.reshape(len(X_train), 1), np.ones(len(X_train)).reshape(len(X_train), 1)), axis=1)\n",
        "caef = make_caef(1)\n",
        "k, b = caef\n",
        "print('f(x) =', k[0], '* x +', b[0])"
      ],
      "execution_count": 11,
      "outputs": [
        {
          "output_type": "stream",
          "text": [
            "f(x) = 2.2791344980519455 * x + 4.433230905064934\n"
          ],
          "name": "stdout"
        }
      ]
    },
    {
      "cell_type": "markdown",
      "metadata": {
        "id": "p5yOtq2OM0N-"
      },
      "source": [
        "Нарисуйте на плоскости точки $(x_i, y_i)$ и полученную линейную функцию. Глядя на данные, подумайте, многочленом какой степени можно было бы лучше всего приблизить эту функцию. Найдите этот многочлен и нарисуйте его график."
      ]
    },
    {
      "cell_type": "code",
      "metadata": {
        "id": "5ScgmmVMM0N-",
        "colab": {
          "base_uri": "https://localhost:8080/",
          "height": 299
        },
        "outputId": "073c5d84-1177-417f-ffc4-d0e8079b3e24"
      },
      "source": [
        "import matplotlib.pyplot as plt\n",
        "result = []\n",
        "for x in X_train:\n",
        "    result.append(x * k + b) #заполняем result значениями f(x)\n",
        "plt.title('f(x) = 2.27913449805195 * x + 4.433230905064935') #подписываем\n",
        "plt.plot(X_train, y_train,'ro', color='black', label='точки X_train') #рисуемммм\n",
        "plt.plot(X_test, y_test,'ro', color='yellow', label='точки X_test')\n",
        "plt.plot(X_train, result, color='green', label='пытающаяся f(x)')\n",
        "plt.legend()\n"
      ],
      "execution_count": 12,
      "outputs": [
        {
          "output_type": "execute_result",
          "data": {
            "text/plain": [
              "<matplotlib.legend.Legend at 0x7f33bacc2a50>"
            ]
          },
          "metadata": {
            "tags": []
          },
          "execution_count": 12
        },
        {
          "output_type": "display_data",
          "data": {
            "image/png": "[encoded data removed]",
            "text/plain": [
              "<Figure size 432x288 with 1 Axes>"
            ]
          },
          "metadata": {
            "tags": [],
            "needs_background": "light"
          }
        }
      ]
    },
    {
      "cell_type": "markdown",
      "metadata": {
        "id": "YmaQx1AKM0N-"
      },
      "source": [
        "Для $k = 1,2,3,\\ldots,10$ найдите многочлен $\\hat{f}_k$ степени $k$, наилучшим образом приближающий неизвестную зависимость. Для каждого из них найдите среднеквадратическую ошибку на обучающих данных и на тестовых данных: $\\frac1{n}\\sum_{i=1}^n\\left( \\hat{f}_k(x_i) - y_i \\right)^2$ (в первом случае сумма ведётся по парам $(x_i, y_i)$ из обучающих данных, а во втором - по парам из тестовых данных).\n",
        "\n",
        "Для $k = 1,2,3,4,6$ напечатайте коэффициенты полученных многочленов и нарисуйте их графики на одном чертеже вместе с точками $(x_i, y_i)$ (возможно, график стоит сделать побольше; это делается командой `plt.figure(figsize=(width, height))`)."
      ]
    },
    {
      "cell_type": "code",
      "metadata": {
        "id": "XViFEB9zM0N_"
      },
      "source": [
        "#функция для поиска среднеквадратической ошибки\n",
        "def mistake(caef, y, X):\n",
        "    sum = 0\n",
        "    for i in range(len(X)):\n",
        "        sum += ((X.dot(caef))[i] - y[i])**2\n",
        "    return (sum[0] / len(X))\n",
        "\n",
        "def mistake3(X, y, caef):\n",
        "    mistakee = 0\n",
        "    for i in range(len(X)):\n",
        "        deg = 1\n",
        "        res = 0\n",
        "        for elem in caef:\n",
        "            res += (elem * deg)\n",
        "            deg *= X[i]\n",
        "        mistakee += (res - y[i])**2\n",
        "    return mistakee/len(X)"
      ],
      "execution_count": 13,
      "outputs": []
    },
    {
      "cell_type": "markdown",
      "metadata": {
        "id": "9nY7D9pNM0N_"
      },
      "source": [
        "Найдем для $k = 1, 2, 3, ..., 10$ многочлены $\\hat{f}_k$ степени $k$, наилучшим образом приближающие неизвестную зависимость и напечатаем коэффициенты полученных многочленов для $k = 1, ..., 4, 6$:"
      ]
    },
    {
      "cell_type": "code",
      "metadata": {
        "id": "9GcJBvl5M0N_",
        "colab": {
          "base_uri": "https://localhost:8080/"
        },
        "outputId": "03604b1e-e9d8-46ee-92fe-96cb92fc7920"
      },
      "source": [
        "for k in range(1, 11):\n",
        "    deg = k\n",
        "    X = make_X(X_train, k)\n",
        "    caef = make_caef(k)\n",
        "    if (k < 7 and k != 5):\n",
        "        print('k = ', k, ': f(x) = ', sep='', end='')\n",
        "        for t in range(k):\n",
        "            print(caef[t][0], ' * x', sep='', end='')\n",
        "            if (deg != 1):\n",
        "                print('^', deg, ' ', sep='', end='')\n",
        "            if (caef[t+1][0] > 0):\n",
        "                print(' + ', end='')\n",
        "            deg -= 1\n",
        "        print(caef[t+1][0])    "
      ],
      "execution_count": 14,
      "outputs": [
        {
          "output_type": "stream",
          "text": [
            "k = 1: f(x) = 2.2791344980519455 * x + 4.433230905064934\n",
            "k = 2: f(x) = 1.4016285121152898 * x^2  + 1.157831688359715 * x + 4.472476503404164\n",
            "k = 3: f(x) = -0.38176860428777787 * x^3  + 1.859750837260898 * x^2  + 1.0650161052852354 * x + 4.460736355285093\n",
            "k = 4: f(x) = 7.918474697314239 * x^4 -13.051328119977338 * x^3  + 6.794091784353347 * x^2  + 1.171802392631903 * x + 4.341166120399721\n",
            "k = 6: f(x) = -229.97013339244856 * x^6  + 581.4532981851046 * x^5 -481.51013283395633 * x^4  + 121.25709711826003 * x^3  + 16.002903989292612 * x^2 -4.597179324630047 * x + 4.383795011026809\n"
          ],
          "name": "stdout"
        }
      ]
    },
    {
      "cell_type": "markdown",
      "metadata": {
        "id": "6Ro7a9HCM0OA"
      },
      "source": [
        "Нарисуем  графики многочленов степеней $k = 1, ..., 4, 6$ на одном чертеже вместе с точками (X_train, y_train) и (X_test, y_test):"
      ]
    },
    {
      "cell_type": "code",
      "metadata": {
        "id": "CgXS9n4qM0OA",
        "colab": {
          "base_uri": "https://localhost:8080/",
          "height": 717
        },
        "outputId": "26d4b678-17cb-4848-8a1e-b72b556c2941"
      },
      "source": [
        "plt.figure(figsize=(10, 12)) #рисуемммм\n",
        "plt.plot(X_train, y_train,'ro', color='green') #наносим точки\n",
        "plt.plot(X_test, y_test,'ro', color='blue') #наносим точки\n",
        "result = []\n",
        "X_temp = np.linspace(-0.2, 1, 1000)\n",
        "for k in range(1, 7):\n",
        "    X = make_X(X_temp, k)\n",
        "    caef = make_caef(k)\n",
        "    result.append(X.dot(caef))\n",
        "plt.plot(X_temp, result[0], color='yellow')\n",
        "plt.plot(X_temp, result[1], color='violet')\n",
        "plt.plot(X_temp, result[2], color='orange')\n",
        "plt.plot(X_temp, result[3], color='brown')\n",
        "plt.plot(X_temp, result[5], color='red')"
      ],
      "execution_count": 15,
      "outputs": [
        {
          "output_type": "execute_result",
          "data": {
            "text/plain": [
              "[<matplotlib.lines.Line2D at 0x7f33b2753710>]"
            ]
          },
          "metadata": {
            "tags": []
          },
          "execution_count": 15
        },
        {
          "output_type": "display_data",
          "data": {
            "image/png": "[encoded data removed]",
            "text/plain": [
              "<Figure size 720x864 with 1 Axes>"
            ]
          },
          "metadata": {
            "tags": [],
            "needs_background": "light"
          }
        }
      ]
    },
    {
      "cell_type": "markdown",
      "metadata": {
        "id": "yaTCccOoM0OA"
      },
      "source": [
        "Данную функцию лучше всего приблизить многочленом 20 степени. Построим график:"
      ]
    },
    {
      "cell_type": "code",
      "metadata": {
        "id": "6y8dwpDPM0OA",
        "colab": {
          "base_uri": "https://localhost:8080/",
          "height": 283
        },
        "outputId": "da6ed7f8-97f3-4db3-96c5-ff434b511cbe"
      },
      "source": [
        "X_temp = np.linspace(-0.2, 1, 21)\n",
        "X = make_X(X_temp, 20)\n",
        "a = (sla.inv(X)).dot(y_train)\n",
        "plt.plot(X_train, y_train,'ro', color='blue') #наносим точки\n",
        "plt.plot(X_train, X.dot(a), color='yellow')"
      ],
      "execution_count": 16,
      "outputs": [
        {
          "output_type": "execute_result",
          "data": {
            "text/plain": [
              "[<matplotlib.lines.Line2D at 0x7f33b26c56d0>]"
            ]
          },
          "metadata": {
            "tags": []
          },
          "execution_count": 16
        },
        {
          "output_type": "display_data",
          "data": {
            "image/png": "[encoded data removed]",
            "text/plain": [
              "<Figure size 432x288 with 1 Axes>"
            ]
          },
          "metadata": {
            "tags": [],
            "needs_background": "light"
          }
        }
      ]
    },
    {
      "cell_type": "markdown",
      "metadata": {
        "id": "bwlmUVv_M0OB"
      },
      "source": [
        "Найдем среднеквадратическую ошибку на обучающих данных:"
      ]
    },
    {
      "cell_type": "code",
      "metadata": {
        "id": "dmwB1SdlM0OB",
        "colab": {
          "base_uri": "https://localhost:8080/"
        },
        "outputId": "f11ec260-c08a-4fe0-df2e-b1aed49997a1"
      },
      "source": [
        "for k in range(1, 11):\n",
        "    X = make_X(X_train, k)\n",
        "    caef = make_caef(k)\n",
        "    print('k =', k, ':', mistake(caef, y_train, X))"
      ],
      "execution_count": 17,
      "outputs": [
        {
          "output_type": "stream",
          "text": [
            "k = 1 : 0.2968966332625196\n",
            "k = 2 : 0.2696989158766914\n",
            "k = 3 : 0.269497187147961\n",
            "k = 4 : 0.2610665330579276\n",
            "k = 5 : 0.24998504648317527\n",
            "k = 6 : 0.18829348988370065\n",
            "k = 7 : 0.18539621153294358\n",
            "k = 8 : 0.1590555657909483\n",
            "k = 9 : 0.15847184288205848\n",
            "k = 10 : 0.15316621869681243\n"
          ],
          "name": "stdout"
        }
      ]
    },
    {
      "cell_type": "markdown",
      "metadata": {
        "id": "PI-PFbEeM0OB"
      },
      "source": [
        "и на тестовых:"
      ]
    },
    {
      "cell_type": "code",
      "metadata": {
        "id": "0lDSw9ybM0OB",
        "colab": {
          "base_uri": "https://localhost:8080/"
        },
        "outputId": "67f9d0b9-12ca-4382-de7a-a8b97a6f8bb9"
      },
      "source": [
        "for k in range(1, 11):\n",
        "    X = make_X(X_test, k)\n",
        "    caef = make_caef(k)\n",
        "    print('k =', k, ':', mistake(caef, y_test, X))"
      ],
      "execution_count": 18,
      "outputs": [
        {
          "output_type": "stream",
          "text": [
            "k = 1 : 0.43512020040488736\n",
            "k = 2 : 0.3564762887831221\n",
            "k = 3 : 0.35534645715185986\n",
            "k = 4 : 0.4417270189296409\n",
            "k = 5 : 0.5579732021773802\n",
            "k = 6 : 2.5816929291416026\n",
            "k = 7 : 2.5157828971534046\n",
            "k = 8 : 4.357289502248264\n",
            "k = 9 : 4.776416407376189\n",
            "k = 10 : 14.634558480491464\n"
          ],
          "name": "stdout"
        }
      ]
    },
    {
      "cell_type": "markdown",
      "metadata": {
        "id": "qEUL7k-ZM0OC"
      },
      "source": [
        "Что происходит с ошибкой при росте степени многочлена? Казалось бы, чем больше степень, тем более сложным будет многочлен и тем лучше он будет приближать нашу функцию. Подтверждают ли это ваши наблюдения? Как вам кажется, чем объясняется поведение ошибки на тестовых данных при $k = 10$?"
      ]
    },
    {
      "cell_type": "markdown",
      "metadata": {
        "collapsed": true,
        "id": "oOoCdj33M0OC"
      },
      "source": [
        "Ошибка при росте многочлена возрастает при $k \\geq 3$ на тестовых данных (и ошибка минимальна при $k = 3$ на тестовых данных) и убывает при $k \\geq 1$ на обучающих данных. Заметим, что при $k = 10$ ошибка на тестовых данных становится максимальной, а на обучающих наоборот минимальной. Это происходит из-за переобучения (как было сказано выше). Чем выше оказывается степень $k$, тем больше многочлен \"приближается\" к обучающим данным, но не тестовым."
      ]
    },
    {
      "cell_type": "markdown",
      "metadata": {
        "id": "4PF7a2VBM0OC"
      },
      "source": [
        "### Задание 2. Линейная регрессия (4 балла)"
      ]
    },
    {
      "cell_type": "markdown",
      "metadata": {
        "id": "fqal5FTSM0OC"
      },
      "source": [
        "Скачайте файлы ``flats_moscow_mod.txt`` и ``flats_moscow_description.txt``. В первом из них содержатся данные о квартирах в Москве. Каждая строка содержит шесть характеристик некоторой квартиры, разделённые знаками табуляции; в первой строке записаны кодовые названия характеристик. Во втором файле приведены краткие описания признаков. Вашей задачей будет построить с помощью метода наименьших квадратов (линейную) зависимость между ценой квартиры и остальными доступными параметрами.\n",
        "\n",
        "С помощью известных вам формул найдите регрессионные коэффициенты. Какой смысл имеют их знаки? Согласуются ли они с вашими представлениями о жизни?\n",
        "\n",
        "Оцените качество приближения, вычислив среднеквадратическую ошибку."
      ]
    },
    {
      "cell_type": "markdown",
      "metadata": {
        "id": "bWK3-DofM0OD"
      },
      "source": [
        "Запишем данные:"
      ]
    },
    {
      "cell_type": "code",
      "metadata": {
        "id": "89qVMQ4VM0OD"
      },
      "source": [
        "flats_moscow = np.loadtxt('flats_moscow_mod.txt', delimiter='\\t', skiprows=1)\n",
        "price = flats_moscow[:, 0]\n",
        "totsp = flats_moscow[:, 1]\n",
        "livesp = flats_moscow[:, 2]\n",
        "kitsp = flats_moscow[:, 3]\n",
        "dist = flats_moscow[:, 4]\n",
        "metrdist = flats_moscow[:, 5]"
      ],
      "execution_count": 19,
      "outputs": []
    },
    {
      "cell_type": "code",
      "metadata": {
        "id": "HuO7p200M0OD"
      },
      "source": [
        "def make_caef_(X, y):\n",
        "    return ((np.dot(sla.inv(np.dot(X.T, X)), X.T)).dot(y.reshape(len(y), 1)))"
      ],
      "execution_count": 20,
      "outputs": []
    },
    {
      "cell_type": "markdown",
      "metadata": {
        "id": "4Kb8YMjpM0OD"
      },
      "source": [
        "Составим матрицу $X$ (аналогична матрице flats_moscow, но без первого столбца):"
      ]
    },
    {
      "cell_type": "code",
      "metadata": {
        "id": "68lwTJ7DM0OD"
      },
      "source": [
        "X = np.concatenate((flats_moscow[:, 1:], np.ones(len(price)).reshape(len(price), 1)), axis=1)"
      ],
      "execution_count": 21,
      "outputs": []
    },
    {
      "cell_type": "markdown",
      "metadata": {
        "id": "r-KHWuQxM0OE"
      },
      "source": [
        "В качестве $y$ будет price. Тогда можем получить оценки коэффициентов $\\hat{a}$:"
      ]
    },
    {
      "cell_type": "code",
      "metadata": {
        "id": "Fg7_UwMCM0OE",
        "colab": {
          "base_uri": "https://localhost:8080/"
        },
        "outputId": "8799d0ec-9947-4701-b1ea-62bac26e2781"
      },
      "source": [
        "caef = make_caef_(X, price.reshape(len(price), 1)).reshape(6)\n",
        "print(caef)"
      ],
      "execution_count": 22,
      "outputs": [
        {
          "output_type": "stream",
          "text": [
            "[  1.48705289   1.656289     1.81920498  -3.32715406  -1.3156886\n",
            " -26.78926963]\n"
          ],
          "name": "stdout"
        }
      ]
    },
    {
      "cell_type": "markdown",
      "metadata": {
        "id": "uypU8l-XM0OE"
      },
      "source": [
        "Вычислим среднеквадратическую ошибку:"
      ]
    },
    {
      "cell_type": "code",
      "metadata": {
        "id": "P3MimxjFM0OE",
        "colab": {
          "base_uri": "https://localhost:8080/"
        },
        "outputId": "3e90996f-006a-4b1b-b6a1-7e0bc0a01402"
      },
      "source": [
        "def mistake1(caef, y, X):\n",
        "    sum = 0\n",
        "    for i in range(len(X)):\n",
        "        sum += ((X.dot(caef))[i] - y[i])**2\n",
        "    return (sum / len(X))\n",
        "print(mistake1(caef, price, X))"
      ],
      "execution_count": 23,
      "outputs": [
        {
          "output_type": "stream",
          "text": [
            "924.0090032084005\n"
          ],
          "name": "stdout"
        }
      ]
    },
    {
      "cell_type": "markdown",
      "metadata": {
        "id": "HVk1QAA0M0OE"
      },
      "source": [
        "Если знак регресионного коэффициента положителен, то цена на квартиру растет, если растет соответствующая характеристика. Если знак отрицателен, то цена растет, если  характеристика уменьшается. "
      ]
    },
    {
      "cell_type": "markdown",
      "metadata": {
        "collapsed": true,
        "id": "SihqAV-DM0OF"
      },
      "source": [
        "### Усложнение модели"
      ]
    },
    {
      "cell_type": "markdown",
      "metadata": {
        "id": "a7DgbdGzM0OF"
      },
      "source": [
        "Конечно, никто не гарантирует, что объясняемая переменная (цена квартиры) зависит от остальных характеристик именно линейно. Зависимость может быть, например, квадратичной или логарифмической; больше того, могут быть важны не только отдельные признаки, но и их комбинации. Это можно учитывать, добавляя в качестве дополнительных признаков разные функции от уже имеющихся характеристик: их квадраты, логарифмы, попарные произведения.\n",
        "\n",
        "В этом задании вам нужно постараться улучшить качество модели, добавляя дополнительные признаки, являющиеся функциями от уже имеющихся. Но будьте осторожны: чрезмерное усложнение модели будет приводить к переобучению. \n",
        "\n",
        "**Сравнение моделей**\n",
        "\n",
        "Когда вы построите новую модель, вам захочется понять, лучше она или хуже, чем изначальная. Проверять это на той же выборке, на которой вы обучались, бессмысленно и даже вредно (вспомните пример с многочленами: как прекрасно падала ошибка на обучающей выборке с ростом степени!). Поэтому вам нужно будет разделить выборку на обучающую и тестовую. Делать это лучше случайным образом (ведь вы не знаете, как создатели датасета упорядочили объекты); рекомендуем вам для этого функцию `sklearn.model_selection.train_test_split`."
      ]
    },
    {
      "cell_type": "code",
      "metadata": {
        "id": "YRx2AttTM0OF"
      },
      "source": [
        "import sklearn as sk\n",
        "from sklearn.model_selection import train_test_split\n",
        "X_train, X_test, y_train, y_test = train_test_split(X, price, test_size=0.40, random_state=25)"
      ],
      "execution_count": 24,
      "outputs": []
    },
    {
      "cell_type": "code",
      "metadata": {
        "id": "5ilcqFmzM0OG"
      },
      "source": [
        "X_test_copy = X_test.transpose()\n",
        "X_train_copy = X_train.transpose()\n",
        "totsp = X_test_copy[0]\n",
        "livesp = X_test_copy[1]\n",
        "kitsp = X_test_copy[2]\n",
        "dist = X_test_copy[3]\n",
        "metrdist = X_test_copy[4]\n",
        "totsp_im = X_train_copy[0]\n",
        "livesp_im = X_train_copy[1]\n",
        "kitsp_im = X_train_copy[2]\n",
        "dist_im = X_train_copy[3]\n",
        "metrdist_im = X_train_copy[4]"
      ],
      "execution_count": 25,
      "outputs": []
    },
    {
      "cell_type": "code",
      "metadata": {
        "id": "x5Y8x98vM0OG"
      },
      "source": [
        "def poww(matrix, deg):\n",
        "    return ((matrix.reshape(1, len(matrix)))**deg).T"
      ],
      "execution_count": 26,
      "outputs": []
    },
    {
      "cell_type": "code",
      "metadata": {
        "id": "zuJ-O9isM0OG",
        "colab": {
          "base_uri": "https://localhost:8080/"
        },
        "outputId": "76396a4b-6270-4f10-c87a-bb66a92c04f1"
      },
      "source": [
        "lsp = poww(livesp, 16).reshape(len(livesp), 1)\n",
        "ddist = poww(dist, 12).reshape(len(dist), 1)\n",
        "ksp = poww(kitsp, 1).reshape(len(kitsp), 1)\n",
        "cur = poww(kitsp, 1).reshape(len(kitsp), 1)\n",
        "lsp_im = poww(livesp_im, 16).reshape(len(livesp_im), 1)\n",
        "ksp_im = poww(kitsp_im, 1).reshape(len(kitsp_im), 1)\n",
        "cur_im = poww(kitsp_im, 1).reshape(len(kitsp_im), 1)\n",
        "ddist_im = poww(dist_im, 12).reshape(len(dist_im), 1)\n",
        "for i in range(len(cur)):\n",
        "    cur_im[i] = lsp_im[i] * np.log(ksp_im[i])\n",
        "   # cur_im[i] *= ddist_im[i]\n",
        "    #cur_im[i] = lsp_im[i] * ksp_im[i]\n",
        "X_train = np.concatenate((cur_im, X_train), axis = 1) \n",
        "coefficients = make_caef_(X_train, y_train)\n",
        "for i in range(len(cur)):\n",
        "    cur[i] = lsp[i] * np.log(ksp[i])\n",
        "   # cur_im[i] *= dist[i]\n",
        "    #cur[i] = lsp[i] * ksp[i]\n",
        "X_test = np.concatenate((cur, X_test), axis = 1) \n",
        "print(mistake(coefficients, y_test, X_test))"
      ],
      "execution_count": 27,
      "outputs": [
        {
          "output_type": "stream",
          "text": [
            "685.6977281081462\n"
          ],
          "name": "stdout"
        }
      ]
    },
    {
      "cell_type": "markdown",
      "metadata": {
        "id": "xSb4rbixM0OG"
      },
      "source": [
        "### Задание 3. Регуляризация (2 балла)"
      ]
    },
    {
      "cell_type": "markdown",
      "metadata": {
        "id": "igXdKWSGM0OH"
      },
      "source": [
        "Вспомним, что задача линейной регрессии формулируется как задача нахождения проекции вектора значений объясняемой переменной $y$ на линейную оболочку $\\langle x_1,\\ldots,x_k\\rangle$ векторов значений регрессоров. Если векторы $x_1,\\ldots,x_k$ линейно зависимы, то матрица $X^TX$ вырожденна и задача не будет решаться (то есть будет, но не с помощью приведённой выше формулы). В жизни, по счастью, различные признаки редко бывают *в точности* линейно зависимы, однако во многих ситуациях они скоррелированы и становятся \"почти\" линейно зависимыми. Таковы, к примеру, зарплата человека, его уровень образования, цена машины и суммарная площадь недвижимости, которой он владеет. В этом случае матрица $X^TX$ будет близка к вырожденной, и это приводит к численной неустойчивости и плохому качеству решений; как следствие, будет иметь место переобучение. Один из симптомов этой проблемы &mdash; необычно большие по модулю компоненты вектора $a$.\n",
        "\n",
        "Есть много способов борьбы с этим злом. Один из них &mdash; регуляризация. Сейчас мы рассмотрим одну из её разновидностей &mdash; **L2-регуляризацию**. Идея в том, чтобы подправить матрицу $X^TX$, сделав её \"получше\". Например, это можно сделать, заменив её на $(X^TX + \\lambda E)$, где $\\lambda$ &mdash; некоторый скаляр. Пожертвовав точностью на обучающей выборке, мы тем не менее получаем численно более стабильное псевдорешение $a = (X^TX + \\lambda E)^{-1}X^Ty$ и снижаем эффект переобучения. Параметр $\\lambda$ нужно подбирать, и каких-то универсальных способов это делать нет, но зачастую можно его подобрать таким, чтобы ошибка на тестовой выборке падала. "
      ]
    },
    {
      "cell_type": "markdown",
      "metadata": {
        "id": "aWXNdF0kM0OH"
      },
      "source": [
        "Теперь давайте вспомним первую задачу. Если вы её сделали, то помните, что ошибка аппроксимации многочленом шестой степени довольно высокая. Убедитесь, что, используя регуляризацию с хорошо подобранным коэффициентом $\\lambda$, ошибку на тестовой выборке можно сделать не больше, чем для многочлена оптимальной степени в модели без регрессии. Для этого $\\lambda$ сравните $\\det(X^TX)$ и $\\det(X^TX + \\lambda E)$."
      ]
    },
    {
      "cell_type": "code",
      "metadata": {
        "id": "8q8tXbrEM0OH"
      },
      "source": [
        "data_train = np.loadtxt('train.txt', delimiter=',')\n",
        "data_test = np.loadtxt('test.txt', delimiter=',')\n",
        "X_train = data_train[:, 0]\n",
        "y_train = data_train[:, 1]\n",
        "X_test = data_test[:, 0]\n",
        "y_test = data_test[:, 1]"
      ],
      "execution_count": 28,
      "outputs": []
    },
    {
      "cell_type": "code",
      "metadata": {
        "id": "9rCZYIB4M0OH"
      },
      "source": [
        "def make_m(k, X):\n",
        "    X_ = np.ones((len(X), 1))\n",
        "    for p in range(1, k):\n",
        "        X_ = np.concatenate((X.reshape(len(X), 1) ** p, X_), axis=1)\n",
        "    return X_\n",
        "\n",
        "def make_caef__(x, lambdaa):\n",
        "    E = np.identity(len(np.dot(x.T, x)))\n",
        "    return ((sla.inv(np.dot(x.T, x) +(E*lambdaa))).dot(x.T)).dot(y_train)\n",
        "\n"
      ],
      "execution_count": 29,
      "outputs": []
    },
    {
      "cell_type": "markdown",
      "metadata": {
        "collapsed": true,
        "id": "haPepxikM0OH"
      },
      "source": [
        "$\\textbf{Ошибка на тестовой выборке для многочлена оптимальной степени в модели}$\n",
        "\n",
        "$\\textbf{без регрессии (то есть для многочлена третьей степени) составляет 0.35534645715180646.}$"
      ]
    },
    {
      "cell_type": "code",
      "metadata": {
        "id": "aTqyLiB1M0OI",
        "colab": {
          "base_uri": "https://localhost:8080/"
        },
        "outputId": "b1e6f4f5-5a15-40b3-c0b1-fc2c19b0ca41"
      },
      "source": [
        "for l in range(1, 20):\n",
        "    coefficients = make_caef__(make_m(6, (X_train.reshape(1, len(X_train))).T), l/10)\n",
        "    print(\"Лямбда = \", l/10, ', ', \"ошибка на тестовых данных равна \", \n",
        "         mistake3(X_test, y_test, coefficients[-1::-1]), sep='')"
      ],
      "execution_count": 30,
      "outputs": [
        {
          "output_type": "stream",
          "text": [
            "Лямбда = 0.1, ошибка на тестовых данных равна 0.3524368994559074\n",
            "Лямбда = 0.2, ошибка на тестовых данных равна 0.34308090866370455\n",
            "Лямбда = 0.3, ошибка на тестовых данных равна 0.3348455040360762\n",
            "Лямбда = 0.4, ошибка на тестовых данных равна 0.32764784723745694\n",
            "Лямбда = 0.5, ошибка на тестовых данных равна 0.3214270215879131\n",
            "Лямбда = 0.6, ошибка на тестовых данных равна 0.31613040600667636\n",
            "Лямбда = 0.7, ошибка на тестовых данных равна 0.3117112301481522\n",
            "Лямбда = 0.8, ошибка на тестовых данных равна 0.30812718479683565\n",
            "Лямбда = 0.9, ошибка на тестовых данных равна 0.3053395526978973\n",
            "Лямбда = 1.0, ошибка на тестовых данных равна 0.3033126390437317\n",
            "Лямбда = 1.1, ошибка на тестовых данных равна 0.30201337415175894\n",
            "Лямбда = 1.2, ошибка на тестовых данных равна 0.30141101715731217\n",
            "Лямбда = 1.3, ошибка на тестовых данных равна 0.30147692153081007\n",
            "Лямбда = 1.4, ошибка на тестовых данных равна 0.3021843406538266\n",
            "Лямбда = 1.5, ошибка на тестовых данных равна 0.30350826108868434\n",
            "Лямбда = 1.6, ошибка на тестовых данных равна 0.3054252562773841\n",
            "Лямбда = 1.7, ошибка на тестовых данных равна 0.307913356212763\n",
            "Лямбда = 1.8, ошибка на тестовых данных равна 0.3109519301993289\n",
            "Лямбда = 1.9, ошибка на тестовых данных равна 0.31452158072575503\n"
          ],
          "name": "stdout"
        }
      ]
    },
    {
      "cell_type": "markdown",
      "metadata": {
        "id": "U9Pr_zYFM0OI"
      },
      "source": [
        "При $\\lambda = 0.3$ ошибка на тестовых данных составляет 0.33, что не больше, чем ошибка на тестовой выборке для многочлена оптимальной степени в модели без регрессии"
      ]
    },
    {
      "cell_type": "markdown",
      "metadata": {
        "id": "l-26iv2dM0OI"
      },
      "source": [
        "Нарисуйте на одном чертеже графики многочленов шестой степени, приближающих неизвестную функцию, для модели с регуляризацией и без. Чем первый из них выгодно отличается от второго?"
      ]
    },
    {
      "cell_type": "code",
      "metadata": {
        "id": "H5x4WxRhM0OI",
        "colab": {
          "base_uri": "https://localhost:8080/",
          "height": 717
        },
        "outputId": "5e7e4627-5978-49f9-f8d5-9552a63ec609"
      },
      "source": [
        "plt.figure(figsize=(10, 12)) #рисуемммм\n",
        "plt.plot(X_train, y_train,'ro', color='green') #наносим точки\n",
        "plt.plot(X_test, y_test,'ro', color='blue') #наносим точки\n",
        "result = []\n",
        "X_temp = np.linspace(-0.2, 1, 1000)\n",
        "for k in range(1, 7):\n",
        "    X = make_X(X_temp, k)\n",
        "    caef = make_caef(k)\n",
        "    result.append(X.dot(caef))\n",
        "plt.plot(X_temp, result[5], color='red') #без\n",
        "coef = make_caef__(make_m(6, (X_train.reshape(1, len(X_train))).T), 0.3)\n",
        "X = make_m(6, X_temp)\n",
        "plt.plot(X_temp, X.dot(coef), color='yellow') #c"
      ],
      "execution_count": 31,
      "outputs": [
        {
          "output_type": "execute_result",
          "data": {
            "text/plain": [
              "[<matplotlib.lines.Line2D at 0x7f33b264bc50>]"
            ]
          },
          "metadata": {
            "tags": []
          },
          "execution_count": 31
        },
        {
          "output_type": "display_data",
          "data": {
            "image/png": "[encoded data removed]",
            "text/plain": [
              "<Figure size 720x864 with 1 Axes>"
            ]
          },
          "metadata": {
            "tags": [],
            "needs_background": "light"
          }
        }
      ]
    },
    {
      "cell_type": "markdown",
      "metadata": {
        "id": "lT3DcCd5M0OI"
      },
      "source": [
        "График модели с регуляризацией более плавный, значит, модель не так сильно переобучается, как модель без регуляризации."
      ]
    }
  ]
}